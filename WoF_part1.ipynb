{
  "nbformat": 4,
  "nbformat_minor": 0,
  "metadata": {
    "colab": {
      "name": "UM_py3_WoF_part1",
      "provenance": [],
      "collapsed_sections": [],
      "authorship_tag": "ABX9TyNDyV9lWjlO8H/wt1VLno8i",
      "include_colab_link": true
    },
    "kernelspec": {
      "name": "python3",
      "display_name": "Python 3"
    },
    "language_info": {
      "name": "python"
    }
  },
  "cells": [
    {
      "cell_type": "markdown",
      "metadata": {
        "id": "view-in-github",
        "colab_type": "text"
      },
      "source": [
        "<a href=\"https://colab.research.google.com/github/hxnnahc/UM-PyCourse4/blob/main/WoF_part1.ipynb\" target=\"_parent\"><img src=\"https://colab.research.google.com/assets/colab-badge.svg\" alt=\"Open In Colab\"/></a>"
      ]
    },
    {
      "cell_type": "markdown",
      "metadata": {
        "id": "0lHWmfPJkkEd"
      },
      "source": [
        "**Part A: WOFPlayer**\n",
        "\n",
        "We’re going to start by defining a class to represent a Wheel of Fortune player, called WOFPlayer. Every instance of WOFPlayer has three instance variables:\n",
        "\n",
        "* **.name**: The name of the player (should be passed into the constructor)\n",
        "\n",
        "* **.prizeMoney**: The amount of prize money for this player (an integer, initialized to 0)\n",
        "\n",
        "* **.prizes**: The prizes this player has won so far (a list, initialized to [])\n",
        "\n",
        "Of these instance variables, only name should be passed into the constructor.\n",
        "\n",
        "It should also have the following methods (note: we will exclude self in our descriptions):\n",
        "\n",
        "* **.addMoney(amt)**: Add amt to self.prizeMoney\n",
        "\n",
        "* **.goBankrupt()**: Set self.prizeMoney to 0\n",
        "\n",
        "* **.addPrize(prize)**: Append prize to self.prizes\n",
        "\n",
        "* **.__str__()**: Returns the player’s name and prize money in the following format: *Steve ($1800) (for a player with instance variables .name == 'Steve' and prizeMoney == 1800)*"
      ]
    },
    {
      "cell_type": "code",
      "metadata": {
        "id": "M8N5zGUwjqjW"
      },
      "source": [
        "VOWEL_COST = 250\n",
        "LETTERS = 'ABCDEFGHIJKLMNOPQRSTUVWXYZ'\n",
        "VOWELS = 'AEIOU'\n",
        "\n",
        "# Write the WOFPlayer class definition (part A) here\n",
        "\n",
        "class WOFPlayer():\n",
        "  def __init__ (self, initName):\n",
        "    self.name = initName # Only name should be passed into the constructor\n",
        "    self.prizeMoney = 0\n",
        "    self.prizes = []\n",
        "\n",
        "  def addMoney(self, amt):\n",
        "    self.prizeMoney += amt\n",
        "\n",
        "  def goBankrupt(self):\n",
        "    self.prizeMoney = 0 \n",
        "  \n",
        "  def addPrize(self, prize):\n",
        "    self.prizes.append(prize)\n",
        "  \n",
        "  def __str__(self):\n",
        "    return '{} ({})'.format(self.name, self.prizeMoney) # Should return a string amount -> 'Steve ($1800)'"
      ],
      "execution_count": null,
      "outputs": []
    },
    {
      "cell_type": "markdown",
      "metadata": {
        "id": "j3B4PUR5t1Ue"
      },
      "source": [
        "**Part B: WOFHumanPlayer**\n",
        "\n",
        "Next, we’re going to define a class named WOFHumanPlayer, which should inherit from WOFPlayer (part A). This class is going to represent a human player. In addition to having all of the instance variables and methods that WOFPlayer has, WOFHumanPlayer should have an additional method:\n",
        "\n",
        "* **.getMove(category, obscuredPhrase, guessed)**: Should ask the user to enter a move (using input()) and *return whatever string they entered.*\n",
        "\n",
        "**Example:**\n",
        "\n",
        "{name} has ${prizeMoney}\n",
        "\n",
        "Category: {category}\n",
        "\n",
        "Phrase:  {obscured_phrase}\n",
        "\n",
        "Guessed: {guessed}\n",
        "\n",
        "Guess a letter, phrase, or type 'exit' or 'pass':\n",
        "\n",
        "__\n",
        "\n",
        "The user can then enter:\n",
        "\n",
        "* 'exit' to exit the game\n",
        "\n",
        "* 'pass' to skip their turn\n",
        "\n",
        "* a single character to guess that letter\n",
        "\n",
        "* a complete phrase (a multi-character phrase other than 'exit' or 'pass') to guess that phrase\n",
        "\n",
        "Note that **.getMove()** does not need to enforce anything about the user’s input; that will be done via the game logic that we define in the next ActiveCode window.\n",
        "\n",
        "\n"
      ]
    },
    {
      "cell_type": "code",
      "metadata": {
        "id": "LtzENvM5u5lN"
      },
      "source": [
        "class WOFHumanPlayer():\n",
        "  def getMove(self, category, obscuredPhrase, guessed):\n",
        "      userinp = input('''{} has ${}\\n\n",
        "                    Category: {}\n",
        "                    Phrase: {} \n",
        "                    Guessed: {}\\n\n",
        "                    Guess a letter, phrase, or type 'exit' or 'pass':'''.format(self.name, self.prizeMoney, category, obscuredPhrase, guessed))\n",
        "      return userinp"
      ],
      "execution_count": null,
      "outputs": []
    },
    {
      "cell_type": "markdown",
      "metadata": {
        "id": "ikZaWMd52TrS"
      },
      "source": [
        "**Part C: WOFComputerPlayer**\n",
        "\n",
        "Finally, we’re going to define a class named WOFComputerPlayer, which should inherit from WOFPlayer (part A). This class is going to represent a computer player.\n",
        "\n",
        "Every computer player will have a difficulty instance variable. Players with a higher difficulty generally play “better”. There are many ways to implement this. \n",
        "\n",
        "We’ll do the following:\n",
        "\n",
        "* If there aren’t any possible letters to choose (for example: if the last character is a vowel but this player doesn’t have enough to guess a vowel), we’ll 'pass'.\n",
        "\n",
        "* Otherwise, semi-randomly decide whether to make a “good” move or a “bad” move on a given turn (a higher difficulty should make it more likely for the player to make a “good” move).\n",
        "\n",
        "In addition to having all of the instance variables and methods that WOFPlayer has, WOFComputerPlayer should have:\n",
        "\n",
        "**Class Variable:**\n",
        "\n",
        "* **.SORTED_FREQUENCIES**: Should be set to 'ZQXJKVBPYGFWMUCLDRHSNIOATE', which is a list of English characters sorted from least frequent ('Z') to most frequent ('E'). We’ll use this when trying to make a “good” move.\n",
        "\n",
        "**Additional Instance Variable:**\n",
        "\n",
        "* **.difficulty**: The level of difficulty for this computer *(should be passed as the second argument into the constructor after .name)*\n",
        "\n",
        "**Methods:**\n",
        "\n",
        "* **.smartCoinFlip()**: This method will help us decide semi-randomly whether to make a “good” or “bad” move. A higher difficulty should make us more likely to make a “good” move. Implement this by choosing a random number between 1 and 10 using random.randint(1, 10) (see above) and *returning True if that random number is greater than self.difficulty.* If the random number is less than or equal to self.difficulty, return False.\n",
        "\n",
        "* **.getPossibleLetters(guessed)**: This method should return a list of letters that can be guessed. These should be characters that are in LETTERS ('ABCDEFGHIJKLMNOPQRSTUVWXYZ') but not in the guessed parameter.\n",
        "\n",
        "* Additionally, if this player doesn’t have enough prize money to guess a vowel (variable VOWEL_COST set to 250), *then vowels (variable VOWELS set to 'AEIOU') should not be included*\n",
        "\n",
        "* **.getMove(category, obscuredPhrase, guessed)**: Should return a valid move *Use the .getPossibleLetters(guessed) method described above.*\n",
        "\n",
        "* If there aren’t any letters that can be guessed (this can happen if the only letters left to guess are vowels and the player doesn’t have enough for vowels), *return 'pass'*."
      ]
    },
    {
      "cell_type": "code",
      "metadata": {
        "id": "RfwIQrzq2j0S"
      },
      "source": [
        "# Write the WOFComputerPlayer class definition (part C) here\n",
        "\n",
        "class WOFComputerPlayer(WOFPlayer): #Should inherit from WOFPlayer (Part A)\n",
        "  SORTED_FREQUENCIES = 'ZQXJKVBPYGFWMUCLDRHSNIOATE' # This will be used when trying to make a 'good' move -> .smartCoinFlip()\n",
        "\n",
        "  def __init__(self, name, difficulty):\n",
        "    name = self.name\n",
        "    difficulty = self.difficulty\n",
        "    self.prizeMoney = 0\n",
        "    self.prizes = []\n",
        "\n",
        "  def smartCoinFlip():\n",
        "    rand_number = random.randint(1, 10)\n",
        "    if rand_number > self.difficulty:\n",
        "      return True\n",
        "    else:\n",
        "      return False\n",
        "\n",
        "  def getPossibleLetters(guessed): # Returns a list of letters that can be guessed\n",
        "    possibleLetters = []\n",
        "    for letter in LETTERS:\n",
        "      if letter in VOWELS and self.prizeMoney <= VOWEL_COST: # If this player doesn’t have enough prize money to guess a vowel (variable VOWEL_COST set to 250), \n",
        "        continue                                             # then vowels (variable VOWELS set to 'AEIOU') should not be included\n",
        "      else: \n",
        "        if letter not in guessed:\n",
        "          possibleLetters.append(letter)\n",
        "      return possibleLetters\n",
        "\n",
        "  def getMove(self, category, obscuredPhrase, guessed):\n",
        "      possibleLetters = self.getPossibleLetters(guessed)\n",
        "      flipCoin = self.smartCoinFlip()\n",
        "      if len(possibleLetters)==0: # If there aren’t any letters that can be guessed, return 'pass'\n",
        "          return 'pass'  \n",
        "      else: \n",
        "          if flipCoin==True: \n",
        "              for letter in self.SORTED_FREQUENCIES:\n",
        "                  if letter in possibleLetters:\n",
        "                      return letter\n",
        "          elif flipCoin==False:\n",
        "              return random.choice(possibleLetters)"
      ],
      "execution_count": null,
      "outputs": []
    }
  ]
}